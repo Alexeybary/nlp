{
  "nbformat": 4,
  "nbformat_minor": 0,
  "metadata": {
    "colab": {
      "provenance": [],
      "collapsed_sections": []
    },
    "kernelspec": {
      "name": "python3",
      "display_name": "Python 3"
    },
    "language_info": {
      "name": "python"
    }
  },
  "cells": [
    {
      "cell_type": "code",
      "execution_count": null,
      "metadata": {
        "id": "fY6YJTsdWEE4"
      },
      "outputs": [],
      "source": [
        "!pip install -q yargy\n"
      ]
    },
    {
      "cell_type": "code",
      "source": [
        "import pandas as pd\n",
        "import numpy as np"
      ],
      "metadata": {
        "id": "3urogBhzY2lP"
      },
      "execution_count": null,
      "outputs": []
    },
    {
      "cell_type": "code",
      "source": [
        "data=pd.read_csv('test_data.csv')\n"
      ],
      "metadata": {
        "id": "RpQ0OTofaw29"
      },
      "execution_count": null,
      "outputs": []
    },
    {
      "cell_type": "code",
      "source": [
        "data['insight'] = ''\n",
        "data"
      ],
      "metadata": {
        "colab": {
          "base_uri": "https://localhost:8080/",
          "height": 424
        },
        "id": "rVnDeENcH2Eu",
        "outputId": "1815706a-eb38-4833-85d6-daffeac66101"
      },
      "execution_count": null,
      "outputs": [
        {
          "output_type": "execute_result",
          "data": {
            "text/plain": [
              "     dlg_id  line_n     role  \\\n",
              "0         0       0   client   \n",
              "1         0       1  manager   \n",
              "2         0       2   client   \n",
              "3         0       3  manager   \n",
              "4         0       4   client   \n",
              "..      ...     ...      ...   \n",
              "475       5     138  manager   \n",
              "476       5     139  manager   \n",
              "477       5     140   client   \n",
              "478       5     141   client   \n",
              "479       5     142  manager   \n",
              "\n",
              "                                                  text insight  \n",
              "0                                                 Алло          \n",
              "1                                    Алло здравствуйте          \n",
              "2                                          Добрый день          \n",
              "3    Меня зовут ангелина компания диджитал бизнес з...          \n",
              "4                                                  Ага          \n",
              "..                                                 ...     ...  \n",
              "475  По поводу виджетов и с ними уже обсудите конкр...          \n",
              "476  Все я вам высылаю счет и с вами на связи если ...          \n",
              "477                                    Спасибо спасибо          \n",
              "478     Да да тогда созвонимся ага спасибо вам давайте          \n",
              "479                     Ну до свидания хорошего вечера          \n",
              "\n",
              "[480 rows x 5 columns]"
            ],
            "text/html": [
              "\n",
              "  <div id=\"df-7f491a84-a9da-4072-b68a-87b08e1bf187\">\n",
              "    <div class=\"colab-df-container\">\n",
              "      <div>\n",
              "<style scoped>\n",
              "    .dataframe tbody tr th:only-of-type {\n",
              "        vertical-align: middle;\n",
              "    }\n",
              "\n",
              "    .dataframe tbody tr th {\n",
              "        vertical-align: top;\n",
              "    }\n",
              "\n",
              "    .dataframe thead th {\n",
              "        text-align: right;\n",
              "    }\n",
              "</style>\n",
              "<table border=\"1\" class=\"dataframe\">\n",
              "  <thead>\n",
              "    <tr style=\"text-align: right;\">\n",
              "      <th></th>\n",
              "      <th>dlg_id</th>\n",
              "      <th>line_n</th>\n",
              "      <th>role</th>\n",
              "      <th>text</th>\n",
              "      <th>insight</th>\n",
              "    </tr>\n",
              "  </thead>\n",
              "  <tbody>\n",
              "    <tr>\n",
              "      <th>0</th>\n",
              "      <td>0</td>\n",
              "      <td>0</td>\n",
              "      <td>client</td>\n",
              "      <td>Алло</td>\n",
              "      <td></td>\n",
              "    </tr>\n",
              "    <tr>\n",
              "      <th>1</th>\n",
              "      <td>0</td>\n",
              "      <td>1</td>\n",
              "      <td>manager</td>\n",
              "      <td>Алло здравствуйте</td>\n",
              "      <td></td>\n",
              "    </tr>\n",
              "    <tr>\n",
              "      <th>2</th>\n",
              "      <td>0</td>\n",
              "      <td>2</td>\n",
              "      <td>client</td>\n",
              "      <td>Добрый день</td>\n",
              "      <td></td>\n",
              "    </tr>\n",
              "    <tr>\n",
              "      <th>3</th>\n",
              "      <td>0</td>\n",
              "      <td>3</td>\n",
              "      <td>manager</td>\n",
              "      <td>Меня зовут ангелина компания диджитал бизнес з...</td>\n",
              "      <td></td>\n",
              "    </tr>\n",
              "    <tr>\n",
              "      <th>4</th>\n",
              "      <td>0</td>\n",
              "      <td>4</td>\n",
              "      <td>client</td>\n",
              "      <td>Ага</td>\n",
              "      <td></td>\n",
              "    </tr>\n",
              "    <tr>\n",
              "      <th>...</th>\n",
              "      <td>...</td>\n",
              "      <td>...</td>\n",
              "      <td>...</td>\n",
              "      <td>...</td>\n",
              "      <td>...</td>\n",
              "    </tr>\n",
              "    <tr>\n",
              "      <th>475</th>\n",
              "      <td>5</td>\n",
              "      <td>138</td>\n",
              "      <td>manager</td>\n",
              "      <td>По поводу виджетов и с ними уже обсудите конкр...</td>\n",
              "      <td></td>\n",
              "    </tr>\n",
              "    <tr>\n",
              "      <th>476</th>\n",
              "      <td>5</td>\n",
              "      <td>139</td>\n",
              "      <td>manager</td>\n",
              "      <td>Все я вам высылаю счет и с вами на связи если ...</td>\n",
              "      <td></td>\n",
              "    </tr>\n",
              "    <tr>\n",
              "      <th>477</th>\n",
              "      <td>5</td>\n",
              "      <td>140</td>\n",
              "      <td>client</td>\n",
              "      <td>Спасибо спасибо</td>\n",
              "      <td></td>\n",
              "    </tr>\n",
              "    <tr>\n",
              "      <th>478</th>\n",
              "      <td>5</td>\n",
              "      <td>141</td>\n",
              "      <td>client</td>\n",
              "      <td>Да да тогда созвонимся ага спасибо вам давайте</td>\n",
              "      <td></td>\n",
              "    </tr>\n",
              "    <tr>\n",
              "      <th>479</th>\n",
              "      <td>5</td>\n",
              "      <td>142</td>\n",
              "      <td>manager</td>\n",
              "      <td>Ну до свидания хорошего вечера</td>\n",
              "      <td></td>\n",
              "    </tr>\n",
              "  </tbody>\n",
              "</table>\n",
              "<p>480 rows × 5 columns</p>\n",
              "</div>\n",
              "      <button class=\"colab-df-convert\" onclick=\"convertToInteractive('df-7f491a84-a9da-4072-b68a-87b08e1bf187')\"\n",
              "              title=\"Convert this dataframe to an interactive table.\"\n",
              "              style=\"display:none;\">\n",
              "        \n",
              "  <svg xmlns=\"http://www.w3.org/2000/svg\" height=\"24px\"viewBox=\"0 0 24 24\"\n",
              "       width=\"24px\">\n",
              "    <path d=\"M0 0h24v24H0V0z\" fill=\"none\"/>\n",
              "    <path d=\"M18.56 5.44l.94 2.06.94-2.06 2.06-.94-2.06-.94-.94-2.06-.94 2.06-2.06.94zm-11 1L8.5 8.5l.94-2.06 2.06-.94-2.06-.94L8.5 2.5l-.94 2.06-2.06.94zm10 10l.94 2.06.94-2.06 2.06-.94-2.06-.94-.94-2.06-.94 2.06-2.06.94z\"/><path d=\"M17.41 7.96l-1.37-1.37c-.4-.4-.92-.59-1.43-.59-.52 0-1.04.2-1.43.59L10.3 9.45l-7.72 7.72c-.78.78-.78 2.05 0 2.83L4 21.41c.39.39.9.59 1.41.59.51 0 1.02-.2 1.41-.59l7.78-7.78 2.81-2.81c.8-.78.8-2.07 0-2.86zM5.41 20L4 18.59l7.72-7.72 1.47 1.35L5.41 20z\"/>\n",
              "  </svg>\n",
              "      </button>\n",
              "      \n",
              "  <style>\n",
              "    .colab-df-container {\n",
              "      display:flex;\n",
              "      flex-wrap:wrap;\n",
              "      gap: 12px;\n",
              "    }\n",
              "\n",
              "    .colab-df-convert {\n",
              "      background-color: #E8F0FE;\n",
              "      border: none;\n",
              "      border-radius: 50%;\n",
              "      cursor: pointer;\n",
              "      display: none;\n",
              "      fill: #1967D2;\n",
              "      height: 32px;\n",
              "      padding: 0 0 0 0;\n",
              "      width: 32px;\n",
              "    }\n",
              "\n",
              "    .colab-df-convert:hover {\n",
              "      background-color: #E2EBFA;\n",
              "      box-shadow: 0px 1px 2px rgba(60, 64, 67, 0.3), 0px 1px 3px 1px rgba(60, 64, 67, 0.15);\n",
              "      fill: #174EA6;\n",
              "    }\n",
              "\n",
              "    [theme=dark] .colab-df-convert {\n",
              "      background-color: #3B4455;\n",
              "      fill: #D2E3FC;\n",
              "    }\n",
              "\n",
              "    [theme=dark] .colab-df-convert:hover {\n",
              "      background-color: #434B5C;\n",
              "      box-shadow: 0px 1px 3px 1px rgba(0, 0, 0, 0.15);\n",
              "      filter: drop-shadow(0px 1px 2px rgba(0, 0, 0, 0.3));\n",
              "      fill: #FFFFFF;\n",
              "    }\n",
              "  </style>\n",
              "\n",
              "      <script>\n",
              "        const buttonEl =\n",
              "          document.querySelector('#df-7f491a84-a9da-4072-b68a-87b08e1bf187 button.colab-df-convert');\n",
              "        buttonEl.style.display =\n",
              "          google.colab.kernel.accessAllowed ? 'block' : 'none';\n",
              "\n",
              "        async function convertToInteractive(key) {\n",
              "          const element = document.querySelector('#df-7f491a84-a9da-4072-b68a-87b08e1bf187');\n",
              "          const dataTable =\n",
              "            await google.colab.kernel.invokeFunction('convertToInteractive',\n",
              "                                                     [key], {});\n",
              "          if (!dataTable) return;\n",
              "\n",
              "          const docLinkHtml = 'Like what you see? Visit the ' +\n",
              "            '<a target=\"_blank\" href=https://colab.research.google.com/notebooks/data_table.ipynb>data table notebook</a>'\n",
              "            + ' to learn more about interactive tables.';\n",
              "          element.innerHTML = '';\n",
              "          dataTable['output_type'] = 'display_data';\n",
              "          await google.colab.output.renderOutput(dataTable, element);\n",
              "          const docLink = document.createElement('div');\n",
              "          docLink.innerHTML = docLinkHtml;\n",
              "          element.appendChild(docLink);\n",
              "        }\n",
              "      </script>\n",
              "    </div>\n",
              "  </div>\n",
              "  "
            ]
          },
          "metadata": {},
          "execution_count": 190
        }
      ]
    },
    {
      "cell_type": "code",
      "source": [
        "from yargy import Parser, rule, and_, not_\n",
        "from yargy.interpretation import fact\n",
        "from yargy.predicates import gram, is_capitalized\n",
        "from yargy.relations import gnc_relation\n",
        "from yargy.pipelines import morph_pipeline\n",
        "from yargy.predicates import caseless, normalized, dictionary\n",
        "\n",
        "\n",
        "list_of_text=[]\n",
        "polite_dialog=[]\n",
        "for i in range(max(data['dlg_id'])+1):\n",
        "  polite_dialog.append([False,False])\n",
        "  list_of_text.append(list(data[data['role']=='manager'][data['dlg_id']==i]['text']))"
      ],
      "metadata": {
        "id": "2_WeKQSegK8I"
      },
      "execution_count": null,
      "outputs": []
    },
    {
      "cell_type": "markdown",
      "source": [
        "Для работы с диалогами я буду использовать yargy-парсер, который удобно использовать для извлечения сущностей по определенному правилу"
      ],
      "metadata": {
        "id": "p3vQNLM_cOuF"
      }
    },
    {
      "cell_type": "markdown",
      "source": [
        "# Приветствие"
      ],
      "metadata": {
        "id": "vBrb9xrNclCv"
      }
    },
    {
      "cell_type": "markdown",
      "source": [
        "Для приветствия мы будем использовать morph_pipеline, в котором пропишем возможные синонимичные выражения."
      ],
      "metadata": {
        "id": "UXpg4MvddLvU"
      }
    },
    {
      "cell_type": "code",
      "source": [
        "pipeline_hello = morph_pipeline([\n",
        "        'Добрый день',\n",
        "        'Привет',\n",
        "        'Здравствуйте',\n",
        "        \"Приветствую\",\n",
        "        \"Доброго времени суток\",\n",
        "        \"Добрый вечер\",\n",
        "        \"Доброе утро\"\n",
        "    ])\n",
        "\n",
        "Hello = fact(\n",
        "    'Hello',\n",
        "    ['first']\n",
        ")\n",
        "gnc = gnc_relation()\n",
        "HELLO_NAME = rule(\n",
        "    pipeline_hello.interpretation(\n",
        "        Hello.first\n",
        "    ).match(gnc)\n",
        "\n",
        ").interpretation(\n",
        "    Hello\n",
        ")\n",
        "\n",
        "parser = Parser(HELLO_NAME)\n",
        "no_hello=[]\n",
        "for i in range(len(list_of_text)):\n",
        "  flag=False\n",
        "  for j in range(len(list_of_text[i])):\n",
        "     temp=parser.find(list_of_text[i][j])\n",
        "     \n",
        "     if temp!=None:\n",
        "       print(f\"номер диалога:{i} и номер строчки:{j}\")\n",
        "       print(f\"реплика:{(list_of_text[i][j])}\")\n",
        "       data.loc[(data.text==list_of_text[i][j]), 'insight']=\" greeting\"\n",
        "       polite_dialog[i][0]=True\n",
        "       flag=True\n",
        "       break\n",
        "  if not flag:\n",
        "    print(f\"В диалоге {i} менеджер не поздоровался\")"
      ],
      "metadata": {
        "colab": {
          "base_uri": "https://localhost:8080/"
        },
        "id": "R3-Uy-pX8GaF",
        "outputId": "0d0ad695-031b-4001-956c-0a974e18c0f7"
      },
      "execution_count": null,
      "outputs": [
        {
          "output_type": "stream",
          "name": "stdout",
          "text": [
            "номер диалога:0 и номер строчки:0\n",
            "реплика:Алло здравствуйте\n",
            "номер диалога:1 и номер строчки:0\n",
            "реплика:Алло здравствуйте\n",
            "номер диалога:2 и номер строчки:0\n",
            "реплика:Алло здравствуйте\n",
            "номер диалога:3 и номер строчки:0\n",
            "реплика:Алло дмитрий добрый день\n",
            "В диалоге 4 менеджер не поздоровался\n",
            "В диалоге 5 менеджер не поздоровался\n"
          ]
        }
      ]
    },
    {
      "cell_type": "code",
      "source": [],
      "metadata": {
        "id": "Uu5Vvqu4JY0I"
      },
      "execution_count": null,
      "outputs": []
    },
    {
      "cell_type": "markdown",
      "source": [
        "# Прощание"
      ],
      "metadata": {
        "id": "jIqsgcNnctdO"
      }
    },
    {
      "cell_type": "code",
      "source": [
        "pipeline_bye = morph_pipeline([\n",
        "'До свидания',\n",
        "'Пока',\n",
        "'всего доброго',\n",
        "'всего хорошего',\n",
        "\n",
        "    ])\n",
        "\n",
        "Bye = fact(\n",
        "    'Bye',\n",
        "    ['first']\n",
        ")\n",
        "gnc = gnc_relation()\n",
        "BYE_NAME = rule(\n",
        "    pipeline_bye.interpretation(\n",
        "        Bye.first\n",
        "    ).match(gnc)\n",
        "\n",
        ").interpretation(\n",
        "    Bye\n",
        ")\n",
        "\n",
        "parser = Parser(BYE_NAME)\n",
        "\n",
        "for i in range(len(list_of_text)):\n",
        "  for j in range(len(list_of_text[i])-1,-1,-1):\n",
        "     temp=parser.find(list_of_text[i][j])\n",
        "     flag=False\n",
        "     if temp!=None:\n",
        "       print(f\"номер диалога:{i} и номер строчки:{j}\")\n",
        "       print(f\"реплика:{(list_of_text[i][j])}\")\n",
        "       polite_dialog[i][1]=True\n",
        "       data.loc[(data.text==list_of_text[i][j]), 'insight']+=\"farewell\"\n",
        "       flag=True\n",
        "       break\n",
        "  if not flag:\n",
        "    print(f\"В диалоге {i} менеджер не попрощался\")"
      ],
      "metadata": {
        "colab": {
          "base_uri": "https://localhost:8080/"
        },
        "id": "eKPLGP-BZFK8",
        "outputId": "e6ce90e3-6afe-4d33-a7de-a2312a402f3c"
      },
      "execution_count": null,
      "outputs": [
        {
          "output_type": "stream",
          "name": "stdout",
          "text": [
            "номер диалога:0 и номер строчки:15\n",
            "реплика:Всего хорошего до свидания\n",
            "номер диалога:1 и номер строчки:28\n",
            "реплика:До свидания\n",
            "номер диалога:2 и номер строчки:39\n",
            "реплика:Все хорошо\n",
            "номер диалога:3 и номер строчки:21\n",
            "реплика:Угу все хорошо да понедельника тогда всего доброго\n",
            "номер диалога:4 и номер строчки:13\n",
            "реплика:Во вторник все ну с вами да тогда до вторника до свидания\n",
            "номер диалога:5 и номер строчки:79\n",
            "реплика:Ну до свидания хорошего вечера\n"
          ]
        }
      ]
    },
    {
      "cell_type": "markdown",
      "source": [
        "Я считаю что в данном случае все хорошо можно считать как разновидность прощания всего хорошего"
      ],
      "metadata": {
        "id": "FzTtx8nUlON5"
      }
    },
    {
      "cell_type": "markdown",
      "source": [
        "# проверка на требование к менеджеру \"В каждом диалоге обязательно необходимо поздороваться и попрощаться с клиентом\""
      ],
      "metadata": {
        "id": "a-ZGq481czUY"
      }
    },
    {
      "cell_type": "code",
      "source": [
        "for i in range(len(polite_dialog)):\n",
        "  if(polite_dialog[i][0] and polite_dialog[i][1]):\n",
        "    print(f\"В диалоге {i} менеджер поздоровался и попрощался\")\n",
        "  elif (polite_dialog[i][0] and not polite_dialog[i][1]):\n",
        "    print(f\"В диалоге {i} менеджер поздоровался,но не попрощался\")\n",
        "  elif(not polite_dialog[i][0] and polite_dialog[i][1]):\n",
        "    print(f\"В диалоге {i} менеджер не поздоровался, но попрощался\")\n",
        "  elif(not polite_dialog[i][0] and not polite_dialog[i][1]):\n",
        "    print(f\"В диалоге {i} менеджер не поздоровался и не попрощался\")"
      ],
      "metadata": {
        "colab": {
          "base_uri": "https://localhost:8080/"
        },
        "id": "G0Ws9q0YUK5T",
        "outputId": "e41d4b29-a102-4d7d-b3da-ece72e183516"
      },
      "execution_count": null,
      "outputs": [
        {
          "output_type": "stream",
          "name": "stdout",
          "text": [
            "В диалоге 0 менеджер поздоровался и попрощался\n",
            "В диалоге 1 менеджер поздоровался и попрощался\n",
            "В диалоге 2 менеджер поздоровался и попрощался\n",
            "В диалоге 3 менеджер поздоровался и попрощался\n",
            "В диалоге 4 менеджер не поздоровался, но попрощался\n",
            "В диалоге 5 менеджер не поздоровался, но попрощался\n"
          ]
        }
      ]
    },
    {
      "cell_type": "markdown",
      "source": [
        "# название компании"
      ],
      "metadata": {
        "id": "Sr6uLpWLc9Cc"
      }
    },
    {
      "cell_type": "markdown",
      "source": [
        "для компании будем искать слово компания, после которого идут несколько существительных"
      ],
      "metadata": {
        "id": "mOpCxQTtdhoP"
      }
    },
    {
      "cell_type": "code",
      "source": [
        "Company = fact(\n",
        "    'Company',\n",
        "    ['position', 'name']\n",
        ")\n",
        "Name = fact(\n",
        "    'Name',\n",
        "    ['first']\n",
        ")\n",
        "\n",
        "\n",
        "POSITION = morph_pipeline([\n",
        "    'Компания'\n",
        "])\n",
        "NAME= gram('NOUN')\n",
        "COMPANY= rule(rule(\n",
        "    POSITION).interpretation(Company.position),rule(\n",
        "    NAME,\n",
        "    NAME.optional().repeatable()).interpretation(Company.name)\n",
        ").interpretation(Company)\n",
        "\n",
        "parser = Parser(COMPANY)\n",
        "for i in range(len(list_of_text)):\n",
        "  for j in range(len(list_of_text[i])):\n",
        "     temp=parser.find(list_of_text[i][j])\n",
        "     flag=False\n",
        "     if temp!=None:\n",
        "       print(f\"номер диалога:{i} и номер строчки:{j}\")\n",
        "       print(f\"компания:{temp.fact.name}\")\n",
        "       data.loc[(data.text==list_of_text[i][j]),'insight']+=f\" company_name={temp.fact.name}\"\n",
        "       flag=True\n",
        "       break\n",
        "  if not flag:\n",
        "    print(f\"В диалоге {i} не было названия компании\")"
      ],
      "metadata": {
        "colab": {
          "base_uri": "https://localhost:8080/"
        },
        "id": "bkgYOCT91r9z",
        "outputId": "0c6b36d4-0418-4b18-8375-70121d5da542"
      },
      "execution_count": null,
      "outputs": [
        {
          "output_type": "stream",
          "name": "stdout",
          "text": [
            "номер диалога:0 и номер строчки:1\n",
            "компания:диджитал бизнес\n",
            "номер диалога:1 и номер строчки:1\n",
            "компания:диджитал бизнес\n",
            "номер диалога:2 и номер строчки:1\n",
            "компания:диджитал бизнес\n",
            "номер диалога:3 и номер строчки:1\n",
            "компания:китобизнес\n",
            "В диалоге 4 не было названия компании\n",
            "В диалоге 5 не было названия компании\n"
          ]
        }
      ]
    },
    {
      "cell_type": "markdown",
      "source": [
        "# имя менеджера"
      ],
      "metadata": {
        "id": "AvSA8E4ndCB3"
      }
    },
    {
      "cell_type": "markdown",
      "source": [
        "Для имени менеджера воспользуемся грамматикой имен и пайплайном с ключевыми словами которые идут перед представлением имени"
      ],
      "metadata": {
        "id": "GXggZAeDd5sX"
      }
    },
    {
      "cell_type": "code",
      "source": [
        "POSITION = morph_pipeline([\n",
        "'Меня зовут',\n",
        "\"я\",\n",
        "\"это\",\n",
        "\"мое имя\"\n",
        "    ])\n",
        "\n",
        "Person = fact(\n",
        "    'Person',\n",
        "    ['position', 'name']\n",
        ")\n",
        "Name = fact(\n",
        "    'Name',\n",
        "    ['first']\n",
        ")\n",
        "FIRST = and_(\n",
        "    gram('Name'),\n",
        "    not_(gram('Abbr')),\n",
        ")\n",
        "\n",
        "gnc = gnc_relation()\n",
        "NAME = rule(\n",
        "    FIRST.interpretation(\n",
        "        Name.first\n",
        "    ).match(gnc)\n",
        "\n",
        ").interpretation(\n",
        "    Name\n",
        ")\n",
        "PERSON = rule(rule(\n",
        "    POSITION).interpretation(Person.position),\n",
        "    NAME.interpretation(Person.name)\n",
        ").interpretation(Person)\n",
        "\n",
        "parser = Parser(PERSON)\n",
        "for i in range(len(list_of_text)):\n",
        "  for j in range(len(list_of_text[i])):\n",
        "     temp=parser.find(list_of_text[i][j])\n",
        "     flag=False\n",
        "     if temp!=None:\n",
        "       print(f\"номер диалога:{i} и номер строчки:{j}\")\n",
        "       print(f\"имя:{temp.fact.name.first}\")\n",
        "       data.loc[(data.text==list_of_text[i][j]), 'insight']+=f\" manager_name={temp.fact.name.first}\"   \n",
        "       flag=True\n",
        "       break\n",
        "  if not flag:\n",
        "    print(f\"В диалоге {i} менеджер не представился\")"
      ],
      "metadata": {
        "colab": {
          "base_uri": "https://localhost:8080/"
        },
        "id": "D6A8COywsLPO",
        "outputId": "7e8a2397-c7f0-401a-e3b8-290691f670a6"
      },
      "execution_count": null,
      "outputs": [
        {
          "output_type": "stream",
          "name": "stdout",
          "text": [
            "номер диалога:0 и номер строчки:1\n",
            "имя:ангелина\n",
            "номер диалога:1 и номер строчки:1\n",
            "имя:ангелина\n",
            "номер диалога:2 и номер строчки:1\n",
            "имя:ангелина\n",
            "номер диалога:3 и номер строчки:1\n",
            "имя:максим\n",
            "В диалоге 4 менеджер не представился\n",
            "номер диалога:5 и номер строчки:0\n",
            "имя:анастасия\n"
          ]
        }
      ]
    },
    {
      "cell_type": "code",
      "source": [
        "data"
      ],
      "metadata": {
        "colab": {
          "base_uri": "https://localhost:8080/",
          "height": 424
        },
        "id": "NGUcEpbuLHL0",
        "outputId": "4983d616-2da0-4711-fef3-ae23d017c495"
      },
      "execution_count": null,
      "outputs": [
        {
          "output_type": "execute_result",
          "data": {
            "text/plain": [
              "     dlg_id  line_n     role  \\\n",
              "0         0       0   client   \n",
              "1         0       1  manager   \n",
              "2         0       2   client   \n",
              "3         0       3  manager   \n",
              "4         0       4   client   \n",
              "..      ...     ...      ...   \n",
              "475       5     138  manager   \n",
              "476       5     139  manager   \n",
              "477       5     140   client   \n",
              "478       5     141   client   \n",
              "479       5     142  manager   \n",
              "\n",
              "                                                  text  \\\n",
              "0                                                 Алло   \n",
              "1                                    Алло здравствуйте   \n",
              "2                                          Добрый день   \n",
              "3    Меня зовут ангелина компания диджитал бизнес з...   \n",
              "4                                                  Ага   \n",
              "..                                                 ...   \n",
              "475  По поводу виджетов и с ними уже обсудите конкр...   \n",
              "476  Все я вам высылаю счет и с вами на связи если ...   \n",
              "477                                    Спасибо спасибо   \n",
              "478     Да да тогда созвонимся ага спасибо вам давайте   \n",
              "479                     Ну до свидания хорошего вечера   \n",
              "\n",
              "                                               insight  \n",
              "0                                                       \n",
              "1                                             greeting  \n",
              "2                                                       \n",
              "3     company_name=диджитал бизнес manager_name=анг...  \n",
              "4                                                       \n",
              "..                                                 ...  \n",
              "475                                                     \n",
              "476                                                     \n",
              "477                                                     \n",
              "478                                                     \n",
              "479                                           farewell  \n",
              "\n",
              "[480 rows x 5 columns]"
            ],
            "text/html": [
              "\n",
              "  <div id=\"df-f62bac4f-ddd3-45e2-bb35-f0e195f6a607\">\n",
              "    <div class=\"colab-df-container\">\n",
              "      <div>\n",
              "<style scoped>\n",
              "    .dataframe tbody tr th:only-of-type {\n",
              "        vertical-align: middle;\n",
              "    }\n",
              "\n",
              "    .dataframe tbody tr th {\n",
              "        vertical-align: top;\n",
              "    }\n",
              "\n",
              "    .dataframe thead th {\n",
              "        text-align: right;\n",
              "    }\n",
              "</style>\n",
              "<table border=\"1\" class=\"dataframe\">\n",
              "  <thead>\n",
              "    <tr style=\"text-align: right;\">\n",
              "      <th></th>\n",
              "      <th>dlg_id</th>\n",
              "      <th>line_n</th>\n",
              "      <th>role</th>\n",
              "      <th>text</th>\n",
              "      <th>insight</th>\n",
              "    </tr>\n",
              "  </thead>\n",
              "  <tbody>\n",
              "    <tr>\n",
              "      <th>0</th>\n",
              "      <td>0</td>\n",
              "      <td>0</td>\n",
              "      <td>client</td>\n",
              "      <td>Алло</td>\n",
              "      <td></td>\n",
              "    </tr>\n",
              "    <tr>\n",
              "      <th>1</th>\n",
              "      <td>0</td>\n",
              "      <td>1</td>\n",
              "      <td>manager</td>\n",
              "      <td>Алло здравствуйте</td>\n",
              "      <td>greeting</td>\n",
              "    </tr>\n",
              "    <tr>\n",
              "      <th>2</th>\n",
              "      <td>0</td>\n",
              "      <td>2</td>\n",
              "      <td>client</td>\n",
              "      <td>Добрый день</td>\n",
              "      <td></td>\n",
              "    </tr>\n",
              "    <tr>\n",
              "      <th>3</th>\n",
              "      <td>0</td>\n",
              "      <td>3</td>\n",
              "      <td>manager</td>\n",
              "      <td>Меня зовут ангелина компания диджитал бизнес з...</td>\n",
              "      <td>company_name=диджитал бизнес manager_name=анг...</td>\n",
              "    </tr>\n",
              "    <tr>\n",
              "      <th>4</th>\n",
              "      <td>0</td>\n",
              "      <td>4</td>\n",
              "      <td>client</td>\n",
              "      <td>Ага</td>\n",
              "      <td></td>\n",
              "    </tr>\n",
              "    <tr>\n",
              "      <th>...</th>\n",
              "      <td>...</td>\n",
              "      <td>...</td>\n",
              "      <td>...</td>\n",
              "      <td>...</td>\n",
              "      <td>...</td>\n",
              "    </tr>\n",
              "    <tr>\n",
              "      <th>475</th>\n",
              "      <td>5</td>\n",
              "      <td>138</td>\n",
              "      <td>manager</td>\n",
              "      <td>По поводу виджетов и с ними уже обсудите конкр...</td>\n",
              "      <td></td>\n",
              "    </tr>\n",
              "    <tr>\n",
              "      <th>476</th>\n",
              "      <td>5</td>\n",
              "      <td>139</td>\n",
              "      <td>manager</td>\n",
              "      <td>Все я вам высылаю счет и с вами на связи если ...</td>\n",
              "      <td></td>\n",
              "    </tr>\n",
              "    <tr>\n",
              "      <th>477</th>\n",
              "      <td>5</td>\n",
              "      <td>140</td>\n",
              "      <td>client</td>\n",
              "      <td>Спасибо спасибо</td>\n",
              "      <td></td>\n",
              "    </tr>\n",
              "    <tr>\n",
              "      <th>478</th>\n",
              "      <td>5</td>\n",
              "      <td>141</td>\n",
              "      <td>client</td>\n",
              "      <td>Да да тогда созвонимся ага спасибо вам давайте</td>\n",
              "      <td></td>\n",
              "    </tr>\n",
              "    <tr>\n",
              "      <th>479</th>\n",
              "      <td>5</td>\n",
              "      <td>142</td>\n",
              "      <td>manager</td>\n",
              "      <td>Ну до свидания хорошего вечера</td>\n",
              "      <td>farewell</td>\n",
              "    </tr>\n",
              "  </tbody>\n",
              "</table>\n",
              "<p>480 rows × 5 columns</p>\n",
              "</div>\n",
              "      <button class=\"colab-df-convert\" onclick=\"convertToInteractive('df-f62bac4f-ddd3-45e2-bb35-f0e195f6a607')\"\n",
              "              title=\"Convert this dataframe to an interactive table.\"\n",
              "              style=\"display:none;\">\n",
              "        \n",
              "  <svg xmlns=\"http://www.w3.org/2000/svg\" height=\"24px\"viewBox=\"0 0 24 24\"\n",
              "       width=\"24px\">\n",
              "    <path d=\"M0 0h24v24H0V0z\" fill=\"none\"/>\n",
              "    <path d=\"M18.56 5.44l.94 2.06.94-2.06 2.06-.94-2.06-.94-.94-2.06-.94 2.06-2.06.94zm-11 1L8.5 8.5l.94-2.06 2.06-.94-2.06-.94L8.5 2.5l-.94 2.06-2.06.94zm10 10l.94 2.06.94-2.06 2.06-.94-2.06-.94-.94-2.06-.94 2.06-2.06.94z\"/><path d=\"M17.41 7.96l-1.37-1.37c-.4-.4-.92-.59-1.43-.59-.52 0-1.04.2-1.43.59L10.3 9.45l-7.72 7.72c-.78.78-.78 2.05 0 2.83L4 21.41c.39.39.9.59 1.41.59.51 0 1.02-.2 1.41-.59l7.78-7.78 2.81-2.81c.8-.78.8-2.07 0-2.86zM5.41 20L4 18.59l7.72-7.72 1.47 1.35L5.41 20z\"/>\n",
              "  </svg>\n",
              "      </button>\n",
              "      \n",
              "  <style>\n",
              "    .colab-df-container {\n",
              "      display:flex;\n",
              "      flex-wrap:wrap;\n",
              "      gap: 12px;\n",
              "    }\n",
              "\n",
              "    .colab-df-convert {\n",
              "      background-color: #E8F0FE;\n",
              "      border: none;\n",
              "      border-radius: 50%;\n",
              "      cursor: pointer;\n",
              "      display: none;\n",
              "      fill: #1967D2;\n",
              "      height: 32px;\n",
              "      padding: 0 0 0 0;\n",
              "      width: 32px;\n",
              "    }\n",
              "\n",
              "    .colab-df-convert:hover {\n",
              "      background-color: #E2EBFA;\n",
              "      box-shadow: 0px 1px 2px rgba(60, 64, 67, 0.3), 0px 1px 3px 1px rgba(60, 64, 67, 0.15);\n",
              "      fill: #174EA6;\n",
              "    }\n",
              "\n",
              "    [theme=dark] .colab-df-convert {\n",
              "      background-color: #3B4455;\n",
              "      fill: #D2E3FC;\n",
              "    }\n",
              "\n",
              "    [theme=dark] .colab-df-convert:hover {\n",
              "      background-color: #434B5C;\n",
              "      box-shadow: 0px 1px 3px 1px rgba(0, 0, 0, 0.15);\n",
              "      filter: drop-shadow(0px 1px 2px rgba(0, 0, 0, 0.3));\n",
              "      fill: #FFFFFF;\n",
              "    }\n",
              "  </style>\n",
              "\n",
              "      <script>\n",
              "        const buttonEl =\n",
              "          document.querySelector('#df-f62bac4f-ddd3-45e2-bb35-f0e195f6a607 button.colab-df-convert');\n",
              "        buttonEl.style.display =\n",
              "          google.colab.kernel.accessAllowed ? 'block' : 'none';\n",
              "\n",
              "        async function convertToInteractive(key) {\n",
              "          const element = document.querySelector('#df-f62bac4f-ddd3-45e2-bb35-f0e195f6a607');\n",
              "          const dataTable =\n",
              "            await google.colab.kernel.invokeFunction('convertToInteractive',\n",
              "                                                     [key], {});\n",
              "          if (!dataTable) return;\n",
              "\n",
              "          const docLinkHtml = 'Like what you see? Visit the ' +\n",
              "            '<a target=\"_blank\" href=https://colab.research.google.com/notebooks/data_table.ipynb>data table notebook</a>'\n",
              "            + ' to learn more about interactive tables.';\n",
              "          element.innerHTML = '';\n",
              "          dataTable['output_type'] = 'display_data';\n",
              "          await google.colab.output.renderOutput(dataTable, element);\n",
              "          const docLink = document.createElement('div');\n",
              "          docLink.innerHTML = docLinkHtml;\n",
              "          element.appendChild(docLink);\n",
              "        }\n",
              "      </script>\n",
              "    </div>\n",
              "  </div>\n",
              "  "
            ]
          },
          "metadata": {},
          "execution_count": 197
        }
      ]
    }
  ]
}